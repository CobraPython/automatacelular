{
 "cells": [
  {
   "cell_type": "markdown",
   "metadata": {},
   "source": [
    "# Automatas Celulares"
   ]
  },
  {
   "cell_type": "markdown",
   "metadata": {},
   "source": [
    "Son sistemas descubiertos dentro del campo de la física computacional por John von Neumann en la década de 1950. La teoría de los autómatas celulares se inicia con su precursor John von Neumann a finales de la década de 1940 con su libro Theory of Self-reproducing Automata (editado y completado por A. W. Burks). \n",
    "\n",
    "Aunque John von Neumann puso en práctica los AA.CC., estos fueron concebidos en los años 40 por Konrad Zuse y Stanislaw Ulam. Zuse pensó en los “espacios de cómputo” (computing spaces), como modelos discretos de sistemas físicos. Las contribuciones de Ulam vinieron al final de los 40, poco después de haber inventado con Nicholas Metropolis el Método de Montecarlo. \n",
    "\n",
    "Aproximadamente en el mismo año (1948), Enrico Fermi, Nicholas Metropolis y Ulam obtuvieron estimadores para los valores característicos de la ecuación de Schrödinger para la captura de neutrones a nivel nuclear usando este método. \n",
    "\n"
   ]
  },
  {
   "cell_type": "markdown",
   "metadata": {},
   "source": [
    "# Formalismo\n",
    "\n",
    "No existe una definición formal y matemática aceptada de autómata celular; sin embargo, se puede describir a un A.C. como una tupla, es decir, un conjunto ordenado de objetos.\n",
    "\n",
    "La definición de un AC requiere mencionar sus elementos básicos: \n",
    "\n",
    "    Un espacio regular. Ya sea una línea, un plano de 2 dimensiones o un espacio n-dimensional. Cada división homogénea del espacio es llamada célula.\n",
    "    Conjunto de Estados. Es finito y cada elemento o célula del espacio toma un valor de este conjunto de estados. También se denomina alfabeto. Puede ser expresado en valores o colores.\n",
    "    Configuración Inicial. Es la asignación inicial de un estado a cada una de las células del espacio.\n",
    "    Vecindades. Define el conjunto de células que se consideran adyacentes a una dada, así como la posición relativa respecto a ella. Cuando el espacio es uniforme, la vecindad de cada célula es isomorfa (es decir, que tiene el mismo aspecto).\n",
    "    \n",
    "    Función de Transición Local. Es la regla de evolución que determina el comportamiento del AC. Se calcula a partir del estado de la célula y su vecindad. Define cómo debe cambiar de estado cada célula dependiendo su estado anterior y de los estados anteriores de su vecindad. Suele darse como una expresión algebraica o un grupo de ecuaciones. \n",
    "    \n",
    "    \n",
    "![title](images/estados.png)"
   ]
  },
  {
   "cell_type": "markdown",
   "metadata": {},
   "source": [
    "Adicionalmente, es necesario especificar el tipo de limite o frontera del espacio, entre los que podemos destacar:\n",
    "\n",
    "    Frontera Abierta. Se considera que todas las células fuera del espacio del autómata toman un valor fijo.\n",
    "    Frontera Reflectora. Las células fuera del espacio del autómata toman los valores que están dentro, como si se tratara de un espejo.\n",
    "    Frontera Periódica o Circular. las células que están en la frontera interaccionan con sus vecinos inmediatos y con las células que están en el extremo opuesto del espacio, como si lo dobláramos en forma de cilindro.\n",
    "    \n",
    "    Sin Frontera. La representación des autómata no tiene limites, es infinito.\n",
    "    \n"
   ]
  },
  {
   "cell_type": "markdown",
   "metadata": {},
   "source": [
    "  Los AC pueden ser construídos en dos dimensiones.En los  de trama cuadriculada, cada célula se puede considerar como viviendo en un vecindario de cinco o nueve células, ella misma incluida."
   ]
  },
  {
   "cell_type": "markdown",
   "metadata": {},
   "source": [
    "![title](images/hand21.gif)"
   ]
  },
  {
   "cell_type": "markdown",
   "metadata": {},
   "source": [
    "Tambien puede ser triangular o hexagonal\n",
    "\n",
    "![title](images/hexagonal.png)"
   ]
  },
  {
   "cell_type": "markdown",
   "metadata": {},
   "source": [
    "O tener una vecindad en tres dimensiones\n",
    "![title](images/3d.png)"
   ]
  },
  {
   "cell_type": "markdown",
   "metadata": {},
   "source": [
    "Es importante destacar la complejidad que se logra con un AC. De acuerdo a la dimensión en la que se genere (linea, plano,espacio,etc.) tendrá un numero potencial de vecinos. Por ejemplo, supongamos que la vecindad se considera de radio 1, es decir, solo las células inmediatas o mas cercanas serán tomadas en cuenta. Para el caso de una sola dimensión cada célula tendrá solo 2 vecinos. Para un AC en dos dimensiones contara con 4 (arriba, abajo, izquierda, derecha) u 8 vecinas si tomamos en cuenta también las diagonales. Y en el caso de un AC en 3D llegara a tener hasta 26 vecinos cada célula. Como el siguiente estado de cada célula se computa en base al estado anterior y de sus vecinas (es decir que el estado 2 surge del estado 1 y el 3 del 2,etc.), se puede tener un sistema con una función de transición muy rica y que, a veces, puede presentar un comportamiento muy difícil de predecir."
   ]
  },
  {
   "cell_type": "markdown",
   "metadata": {},
   "source": [
    "# CONWAY\n",
    "\n",
    "Uno de los AC mas conocidos es el Juego de la vida, creado por John Horton Conway en 1970. El juego consiste en una cuadrícula donde se coloca al inicio un patrón de células “vivas” o “muertas”. La vecindad para cada célula son los ocho celdas que la rodean. De manera repetida, se aplican simultáneamente sobre todas las células de la cuadrícula las siguientes 3 reglas:"
   ]
  },
  {
   "cell_type": "markdown",
   "metadata": {},
   "source": [
    "    Nacimiento: se reemplaza una célula muerta por una viva si dicha célula tiene exactamente 3 vecinos vivos.\n",
    "    \n",
    "    Muerte: se reemplaza una célula viva por una muerta si dicha célula no tiene más de 1 vecino vivo (muerte por aislamiento) o si tiene más de 3 vecinos vivos (muerte por sobrepoblación).\n",
    "    \n",
    "    Supervivencia: una célula viva permanecerá en ese estado si tiene 2 o 3 vecinos vivos.\n",
    "\n"
   ]
  },
  {
   "cell_type": "code",
   "execution_count": 5,
   "metadata": {},
   "outputs": [
    {
     "data": {
      "image/png": "[encoded data removed]",
      "text/plain": [
       "<Figure size 432x288 with 1 Axes>"
      ]
     },
     "metadata": {
      "needs_background": "light"
     },
     "output_type": "display_data"
    }
   ],
   "source": [
    "#!/usr/local/bin/python\n",
    "#\n",
    "\n",
    "import numpy as np\n",
    "import matplotlib.pyplot as plt\n",
    "\n",
    "def siguiente(tablero):\n",
    "\n",
    "    nx = np.size(tablero,0)\n",
    "    ny = np.size(tablero,1)\n",
    "    vecinos = np.zeros((nx,ny),dtype=int)\n",
    "    cambios = np.zeros((nx,ny),dtype=int)\n",
    "\n",
    "    # Primero contamos cuantos vecinos tiene cada celula:\n",
    "    # si el punto del tablero [x,y] esta vivo, agnade 1 a\n",
    "    # sus 8 vecninos.\n",
    "    for x in range(1,nx-1):\n",
    "        for y in range(1,ny-1):\n",
    "            if (tablero[x,y] > 0):\n",
    "                vecinos[x+1,y]   +=  1\n",
    "                vecinos[x+1,y+1] +=  1\n",
    "                vecinos[x,y+1]   +=  1\n",
    "                vecinos[x-1,y]   +=  1\n",
    "                vecinos[x-1,y-1] +=  1\n",
    "                vecinos[x,y-1]   +=  1\n",
    "                vecinos[x+1,y-1] +=  1\n",
    "                vecinos[x-1,y+1] +=  1\n",
    "\n",
    "    # Ahora calculamos la estructura de la siguiente generacion\n",
    "    # conforme a las reglas del juego de la vida (o las que sean).\n",
    "    # Devolvemos el array cambios que nos dice los sitios del \n",
    "    # tablero que han cambiado (han pasado de 0 a 1, o viceversa).\n",
    "    for x in range(1,nx-1):\n",
    "        for y in range(1,ny-1):\n",
    "            if (tablero[x,y] == 1):\n",
    "                if ( not((vecinos[x,y] == 3) or (vecinos[x,y] == 2))):\n",
    "                    tablero[x,y] = 0\n",
    "                    cambios[x,y] = 1\n",
    "            else:\n",
    "                if ( (vecinos[x,y] == 3) ):\n",
    "                    tablero[x,y] = 1\n",
    "                    cambios[x,y] = 1\n",
    "\n",
    "    return cambios\n",
    "\n",
    "def refresca(tablero,cambios):\n",
    "\n",
    "    nx = np.size(tablero,0)\n",
    "    ny = np.size(tablero,1)\n",
    "\n",
    "    h = 0.5\n",
    "    for ix in range(1,nx):\n",
    "        for iy in range(1,ny):\n",
    "            xcorners = np.array([ix-h,ix+h,ix+h,ix-h])\n",
    "            ycorners = np.array([iy-h,iy-h,iy+h,iy+h])\n",
    "            if (cambios[ix,iy] == 1):\n",
    "                if (tablero[ix,iy] == 1):\n",
    "                    plt.fill(xcorners,ycorners,color='k',edgecolor='w')\n",
    "                else:\n",
    "                    plt.fill(xcorners,ycorners,color='w',edgecolor='w')\n",
    "                    \n",
    "    return\n",
    "\n",
    "nptx=50\n",
    "npty=50\n",
    "tab=np.zeros((nptx+2,npty+2),dtype=int)\n",
    "cmb=np.zeros((nptx+2,npty+2),dtype=int)\n",
    "\n",
    "# Cargamos un patron inicial. En este caso \n",
    "# una configuracion conocida como\n",
    "# \"Gosper glider gun\" (una pistola)\n",
    "tab[2,44] = 1\n",
    "tab[2,43] = 1\n",
    "tab[3,44] = 1\n",
    "tab[3,43] = 1\n",
    "tab[12,44] = 1\n",
    "tab[12,43] = 1\n",
    "tab[12,42] = 1\n",
    "tab[13,45] = 1\n",
    "tab[13,41] = 1\n",
    "tab[14,46] = 1\n",
    "tab[14,40] = 1\n",
    "tab[15,46] = 1\n",
    "tab[15,40] = 1\n",
    "tab[16,43] = 1\n",
    "tab[17,45] = 1\n",
    "tab[17,41] = 1\n",
    "tab[18,44] = 1\n",
    "tab[18,43] = 1\n",
    "tab[18,42] = 1\n",
    "tab[19,43] = 1\n",
    "tab[22,44] = 1\n",
    "tab[22,45] = 1\n",
    "tab[22,46] = 1\n",
    "tab[23,44] = 1\n",
    "tab[23,45] = 1\n",
    "tab[23,46] = 1\n",
    "tab[24,43] = 1\n",
    "tab[24,47] = 1\n",
    "tab[26,42] = 1\n",
    "tab[26,43] = 1\n",
    "tab[26,47] = 1\n",
    "tab[26,48] = 1\n",
    "tab[36,45] = 1\n",
    "tab[36,46] = 1\n",
    "tab[37,45] = 1\n",
    "tab[37,46] = 1\n",
    "\n",
    "\n",
    "\n",
    "plt.ion()\n",
    "plt.xlim((0,nptx))\n",
    "plt.ylim((0,npty))\n",
    "\n",
    "refresca(tab,tab)\n",
    "plt.draw()\n",
    "for i in range(0,100):\n",
    "    cmb = siguiente(tab)\n",
    "    refresca(tab,cmb)\n",
    "    plt.draw()\n"
   ]
  },
  {
   "cell_type": "markdown",
   "metadata": {},
   "source": [
    "# Clasificación de los Autómatas Celulares\n",
    "\n",
    "Stephen Wolfram comenzó a trabajar en autómatas celulares a mediados de 1981 después de considerar cómo los patrones complejos parecían formarse en la naturaleza en violación de la segunda ley de la termodinámica. Sus investigaciones fueron inicialmente impulsados por un interés en sistemas de modelado, como las redes neuronales. Tras ver la inesperada complejidad del comportamiento de estas reglas simples Wolfram llevó a sospechar que la complejidad en la naturaleza puede ser debida a mecanismos similares. En 2002 Wolfram publicó un texto de 1.280 páginas, A New Kind of Science, que sostiene ampliamente que los descubrimientos sobre autómatas celulares no son hechos aislados sino que son robustos y tienen importancia para todas las disciplinas de la ciencia. \n",
    "\n",
    "Wolfram define cuatro clases en las que los AC. Mientras que los estudios anteriores en autómatas celulares tienden a tratar de identificar el tipo de patrones de reglas específicas, la clasificación de Wolfram fue el primer intento de clasificación global. En orden de complejidad las clases que identifica son:\n",
    "\n",
    "    Clase I: Casi todos los patrones iniciales evolucionan rápidamente en un estado estable y homogéneo. Cualquier aleatoriedad en el patrón inicial desaparece.\n",
    "    Clase II: Casi todos los patrones iniciales evolucionan rápidamente hacia estructuras estables u oscilantes. Parte de la aleatoriedad del patrón inicial puede permanecer, pero solo algunos restos. Los cambios locales en el patrón inicial tienden a permanecer locales.\n",
    "    Clase III: Casi todos los patrones iniciales evolucionan de forma pseudo-aleatoria o caótica. Las estructuras estables que aparecen son destruidas rápidamente por el ruido circundante. Los cambios locales en el patrón inicial tienden a propagarse indefinidamente.\n",
    "    Clase IV: Casi todos los patrones iniciales evolucionan en las estructuras que interactúan de manera compleja e interesante, con la formación de las estructuras locales que son capaces de sobrevivir por largos períodos de tiempo. Podría ser el caso de que apareciesen estructuras estables u oscilantes, pero el número de pasos necesarios para llegar a este estado puede ser muy grande, incluso cuando el patrón inicial es relativamente simple. Los cambios locales en el patrón inicial pueden extenderse indefinidamente. Wolfram ha conjeturado que muchos, si no todos, los AC de esta clase son capaces de realizar computación universal. Algo que ha sido demostrado para el autómata 110 y para el juego de la vida de John Conway .\n"
   ]
  },
  {
   "cell_type": "markdown",
   "metadata": {},
   "source": [
    "Estas definiciones son de carácter cualitativo y hay cierto margen de interpretación. Según Wolfram, \"... con casi cualquier esquema de clasificación general, hay casos en los que, inevitablemente, se asignan a una clase por una definición y otra clase por otra definición, y lo mismo ocurre con los autómatas celulares: hay veces que las reglas muestran algunas de las características de una clase y otras veces de otra clase\".\n",
    "![title](images/rules.gif)\n"
   ]
  },
  {
   "attachments": {},
   "cell_type": "markdown",
   "metadata": {},
   "source": [
    "# Ejemplos\n",
    "\n",
    "Rule 30\n",
    "![imagen.png](images/rule30.png)\n",
    "\n",
    "![imagen.png](images/ej1.png)\n",
    "\n",
    "1D\n",
    "\n",
    "![imagen.png](images/lag1.jpg)\n",
    "![imagen.png](images/lag2.jpg)\n",
    "\n",
    "Mas de dos estados\n",
    "![imagen.png](images/1dtrescolores.png)\n",
    "\n",
    "Patrones solidos\n",
    "![imagen.png](images/solido.png)"
   ]
  },
  {
   "cell_type": "markdown",
   "metadata": {},
   "source": [
    "# Campos de Aplicación\n",
    "\n",
    "\n",
    "\n",
    "Fisica teórica:\n",
    "https://physics.stackexchange.com/questions/32203/discreteness-and-determinism-in-superstrings\n",
    "\n",
    "Finanzas y mercados\n",
    "\n",
    "Aquitectura\n",
    "![imagen.png](images/arq.png)\n",
    "\n",
    "Bioinformática\n",
    "\n",
    "Genómica-Computacional, Bioinformatica-Estructural, Biología de Sistemas y Algoritmos-bases de Datos.\n",
    "\n",
    "Alan Turing trabajo desde 1952 hasta que falleció en la Biología Matemática(disciplina que estudia los procesos biológicos utilizando técnicas matemáticas), destacando sus escritos sobre la morfogénesis y la filotaxis, ejemplos clásicos de patrones resultantes en un proceso auto-organizativo en  la naturaleza.\n",
    "\n",
    "Dependiendo de la naturaleza compleja del sistema y de la posibilidad deidentificar estados locales y reglas generales de evolución, se podrían simularlos fenómenos naturales por medio de un AC, y por lo menos se requiereconocer su comportamiento global. Ejemplos de esto pueden ser: propagaciónde virus, epidemias y bacterias, comportamiento de glóbulos en el cuerpo,contaminación, evolución galáctica, ecosistemas, genética, etc\n",
    "\n",
    "![imagen.png](images/patronesturing.png)\n",
    "\n",
    "\n",
    "Propagación de Incendios\n",
    "\n",
    "![imagen.png](images/incendio.png)\n",
    "\n"
   ]
  },
  {
   "cell_type": "markdown",
   "metadata": {},
   "source": [
    "https://distill.pub/2020/growing-ca/"
   ]
  }
 ],
 "metadata": {
  "kernelspec": {
   "display_name": "Python 3",
   "language": "python",
   "name": "python3"
  },
  "language_info": {
   "codemirror_mode": {
    "name": "ipython",
    "version": 3
   },
   "file_extension": ".py",
   "mimetype": "text/x-python",
   "name": "python",
   "nbconvert_exporter": "python",
   "pygments_lexer": "ipython3",
   "version": "3.8.3"
  }
 },
 "nbformat": 4,
 "nbformat_minor": 4
}
